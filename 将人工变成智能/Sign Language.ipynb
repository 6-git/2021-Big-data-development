{
 "cells": [
  {
   "cell_type": "markdown",
   "metadata": {},
   "source": [
    "### 导入依赖包"
   ]
  },
  {
   "cell_type": "code",
   "execution_count": 14,
   "metadata": {
    "ExecuteTime": {
     "end_time": "2021-06-23T07:19:26.673759Z",
     "start_time": "2021-06-23T07:19:26.447486Z"
    },
    "execution": {
     "iopub.execute_input": "2020-08-23T07:34:36.486863Z",
     "iopub.status.busy": "2020-08-23T07:34:36.485917Z",
     "iopub.status.idle": "2020-08-23T07:34:38.662768Z",
     "shell.execute_reply": "2020-08-23T07:34:38.661906Z"
    },
    "papermill": {
     "duration": 2.203052,
     "end_time": "2020-08-23T07:34:38.662906",
     "exception": false,
     "start_time": "2020-08-23T07:34:36.459854",
     "status": "completed"
    },
    "tags": []
   },
   "outputs": [],
   "source": [
    "import pandas as pd\n",
    "import numpy as np\n",
    "import matplotlib.pyplot as plt\n",
    "import seaborn as sns\n",
    "from sklearn.metrics import precision_score, recall_score, f1_score, confusion_matrix, classification_report, accuracy_score\n",
    "from sklearn.model_selection import train_test_split\n",
    "from sklearn.linear_model import LogisticRegression\n",
    "from sklearn.preprocessing import StandardScaler\n",
    "from sklearn.discriminant_analysis import LinearDiscriminantAnalysis as LDA\n",
    "from sklearn.decomposition import PCA\n",
    "from sklearn.multiclass import OneVsOneClassifier\n",
    "from sklearn.model_selection import cross_val_score, GridSearchCV\n",
    "from sklearn.pipeline import Pipeline\n",
    "from skimage.feature import hog\n",
    "from skimage import exposure\n",
    "from skimage.transform import rotate\n",
    "import pickle\n",
    "from tqdm import tqdm\n",
    "import timeit\n",
    "from joblib import Parallel, delayed\n",
    "import os\n",
    "%matplotlib inline"
   ]
  },
  {
   "cell_type": "markdown",
   "metadata": {
    "papermill": {
     "duration": 0.008858,
     "end_time": "2020-08-23T07:34:38.699874",
     "exception": false,
     "start_time": "2020-08-23T07:34:38.691016",
     "status": "completed"
    },
    "tags": []
   },
   "source": [
    "### 读取csv文件并返回像素值和标签"
   ]
  },
  {
   "cell_type": "code",
   "execution_count": 5,
   "metadata": {
    "ExecuteTime": {
     "end_time": "2021-06-23T07:10:48.534117Z",
     "start_time": "2021-06-23T07:10:48.528080Z"
    },
    "execution": {
     "iopub.execute_input": "2020-08-23T07:34:38.730321Z",
     "iopub.status.busy": "2020-08-23T07:34:38.729524Z",
     "iopub.status.idle": "2020-08-23T07:34:38.740490Z",
     "shell.execute_reply": "2020-08-23T07:34:38.739634Z"
    },
    "papermill": {
     "duration": 0.030078,
     "end_time": "2020-08-23T07:34:38.740629",
     "exception": false,
     "start_time": "2020-08-23T07:34:38.710551",
     "status": "completed"
    },
    "tags": []
   },
   "outputs": [],
   "source": [
    "def read_file(filename):\n",
    "\n",
    "    #读取文件数据，数据含有标签值，将直接载入图像的直方图，一个向量有256个元素\n",
    "    df = pd.read_csv(filename)\n",
    "\n",
    "    pixels = df.drop(columns=['label']).values\n",
    "\n",
    "    labels = df.label.values\n",
    "    pixels = pixels.astype(np.float64)\n",
    "    return pixels, labels"
   ]
  },
  {
   "cell_type": "markdown",
   "metadata": {
    "papermill": {
     "duration": 0.009162,
     "end_time": "2020-08-23T07:34:38.759130",
     "exception": false,
     "start_time": "2020-08-23T07:34:38.749968",
     "status": "completed"
    },
    "tags": []
   },
   "source": [
    "### 加载保存数据"
   ]
  },
  {
   "cell_type": "code",
   "execution_count": 6,
   "metadata": {
    "ExecuteTime": {
     "end_time": "2021-06-23T07:10:50.093352Z",
     "start_time": "2021-06-23T07:10:50.078392Z"
    },
    "execution": {
     "iopub.execute_input": "2020-08-23T07:34:38.785573Z",
     "iopub.status.busy": "2020-08-23T07:34:38.784690Z",
     "iopub.status.idle": "2020-08-23T07:34:38.788434Z",
     "shell.execute_reply": "2020-08-23T07:34:38.787650Z"
    },
    "papermill": {
     "duration": 0.020178,
     "end_time": "2020-08-23T07:34:38.788572",
     "exception": false,
     "start_time": "2020-08-23T07:34:38.768394",
     "status": "completed"
    },
    "tags": []
   },
   "outputs": [],
   "source": [
    "def save_pickle(data, filename):\n",
    "    # 序列化对象，将对象object保存到文件file中\n",
    "    pickle.dump(data, open(filename, 'wb'))\n",
    "\n",
    "def load_pickle(filename):\n",
    "    # 反序列化对象，将文件中的数据解析为一个python对象\n",
    "    return pickle.load(open(filename, 'rb'))"
   ]
  },
  {
   "cell_type": "markdown",
   "metadata": {
    "papermill": {
     "duration": 0.00928,
     "end_time": "2020-08-23T07:34:38.807749",
     "exception": false,
     "start_time": "2020-08-23T07:34:38.798469",
     "status": "completed"
    },
    "tags": []
   },
   "source": [
    "### 显示手势图像"
   ]
  },
  {
   "cell_type": "code",
   "execution_count": 7,
   "metadata": {
    "ExecuteTime": {
     "end_time": "2021-06-23T07:10:52.773002Z",
     "start_time": "2021-06-23T07:10:52.765000Z"
    },
    "execution": {
     "iopub.execute_input": "2020-08-23T07:34:38.846660Z",
     "iopub.status.busy": "2020-08-23T07:34:38.845647Z",
     "iopub.status.idle": "2020-08-23T07:34:38.848715Z",
     "shell.execute_reply": "2020-08-23T07:34:38.848037Z"
    },
    "papermill": {
     "duration": 0.031564,
     "end_time": "2020-08-23T07:34:38.848840",
     "exception": false,
     "start_time": "2020-08-23T07:34:38.817276",
     "status": "completed"
    },
    "tags": []
   },
   "outputs": [],
   "source": [
    "def show_image(pixels, labels, numbers=24, img_size=28):\n",
    "\n",
    "    new_pixels = pixels.reshape(-1, img_size, img_size, 1)\n",
    "    plt.figure(figsize=(12, 12))\n",
    "    \n",
    "    #对集合进行去重处理\n",
    "    label_set = set(np.unique(y_train))\n",
    "\n",
    "    n_images = len(pixels)\n",
    "    n_label = len(label_set)\n",
    "    label_ = set()\n",
    "    num = 0\n",
    "    while num < numbers:\n",
    "        idx = np.random.randint(0, n_images)\n",
    "        if labels[idx] in label_set and (labels[idx] not in label_ or num >= n_label):\n",
    "            num += 1\n",
    "            label_.add(labels[idx])\n",
    "            plt.subplot(numbers // 4 + 1, 4, num)\n",
    "            plt.axis('off')\n",
    "            plt.title(labels[idx])\n",
    "            plt.imshow(new_pixels[idx, :, :, 0], cmap='gray')\n",
    "\n",
    "    plt.show()"
   ]
  },
  {
   "cell_type": "markdown",
   "metadata": {
    "papermill": {
     "duration": 0.009019,
     "end_time": "2020-08-23T07:34:38.867601",
     "exception": false,
     "start_time": "2020-08-23T07:34:38.858582",
     "status": "completed"
    },
    "tags": []
   },
   "source": [
    "## 读取数据并展示"
   ]
  },
  {
   "cell_type": "code",
   "execution_count": 8,
   "metadata": {
    "ExecuteTime": {
     "end_time": "2021-06-23T07:11:00.430744Z",
     "start_time": "2021-06-23T07:10:55.163865Z"
    },
    "execution": {
     "iopub.execute_input": "2020-08-23T07:34:38.897890Z",
     "iopub.status.busy": "2020-08-23T07:34:38.897154Z",
     "iopub.status.idle": "2020-08-23T07:34:44.650569Z",
     "shell.execute_reply": "2020-08-23T07:34:44.651161Z"
    },
    "papermill": {
     "duration": 5.774278,
     "end_time": "2020-08-23T07:34:44.651347",
     "exception": false,
     "start_time": "2020-08-23T07:34:38.877069",
     "status": "completed"
    },
    "scrolled": false,
    "tags": []
   },
   "outputs": [
    {
     "data": {
      "image/png": "[encoded data removed]",
      "text/plain": [
       "<Figure size 864x864 with 24 Axes>"
      ]
     },
     "metadata": {
      "needs_background": "light"
     },
     "output_type": "display_data"
    }
   ],
   "source": [
    "trainSet_path = \"D:/Bingo/archive/sign_mnist_train/sign_mnist_train.csv\"\n",
    "testSet_path = \"D:/Bingo/archive/sign_mnist_test/sign_mnist_test.csv\"\n",
    "X_train, y_train = read_file(trainSet_path)\n",
    "X_test, y_test = read_file(testSet_path)\n",
    "\n",
    "# 进行归一化 \n",
    "X_train /= 255\n",
    "X_test /= 255\n",
    "\n",
    "#显示手势图像\n",
    "show_image(X_train, y_train)"
   ]
  },
  {
   "cell_type": "markdown",
   "metadata": {
    "papermill": {
     "duration": 0.011015,
     "end_time": "2020-08-23T07:34:44.678814",
     "exception": false,
     "start_time": "2020-08-23T07:34:44.667799",
     "status": "completed"
    },
    "tags": []
   },
   "source": [
    "### Baseline"
   ]
  },
  {
   "cell_type": "code",
   "execution_count": 94,
   "metadata": {
    "ExecuteTime": {
     "end_time": "2021-06-23T02:21:52.109084Z",
     "start_time": "2021-06-23T02:12:35.210978Z"
    },
    "execution": {
     "iopub.execute_input": "2020-08-23T07:34:44.730974Z",
     "iopub.status.busy": "2020-08-23T07:34:44.729819Z",
     "iopub.status.idle": "2020-08-23T07:44:06.689883Z",
     "shell.execute_reply": "2020-08-23T07:44:06.690612Z"
    },
    "papermill": {
     "duration": 561.979623,
     "end_time": "2020-08-23T07:44:06.690836",
     "exception": false,
     "start_time": "2020-08-23T07:34:44.711213",
     "status": "completed"
    },
    "tags": []
   },
   "outputs": [
    {
     "name": "stdout",
     "output_type": "stream",
     "text": [
      "Fit time: 556.8851403000008\n",
      "Valificasion: 99.96\n"
     ]
    }
   ],
   "source": [
    "# 训练基线模型\n",
    "start = timeit.default_timer()\n",
    "\n",
    "'''\n",
    "该数据集明显不适合使用线性回归，采用逻辑回归算法进行训练\n",
    "liblinear：使用了开源的liblinear库实现，内部使用了坐标轴下降法来迭代优化损失函数。\n",
    "lbfgs: 拟牛顿法的一种，利用损失函数二阶导数矩阵即海森矩阵来迭代优化损失函数。\n",
    "newton-cg：也是牛顿法家族的一种，利用损失函数二阶导数矩阵即海森矩阵来迭代优化损失函数。\n",
    "sag：即随机平均梯度下降，是梯度下降法的变种，和普通梯度下降法的区别是每次迭代仅仅用一部分的样本来计算梯度，适合于样本数据多的时候。\n",
    "saga：线性收敛的随机优化算法的的变重。\n",
    "'''\n",
    "model = LogisticRegression(max_iter=10000, solver='lbfgs', multi_class='auto')\n",
    "#使用五折交叉验证进行评估\n",
    "scores = cross_val_score(model, X_train, y_train, cv=5)\n",
    "\n",
    "end = timeit.default_timer()\n",
    "print(\"Fit time:\", end - start)\n",
    "print(\"Valificasion: %.2f\" % (scores.mean() * 100))"
   ]
  },
  {
   "cell_type": "markdown",
   "metadata": {
    "papermill": {
     "duration": 0.011535,
     "end_time": "2020-08-23T07:51:41.215455",
     "exception": false,
     "start_time": "2020-08-23T07:51:41.203920",
     "status": "completed"
    },
    "tags": []
   },
   "source": [
    "### 特征工程之特征提取:使用方向梯度直方图"
   ]
  },
  {
   "cell_type": "code",
   "execution_count": 9,
   "metadata": {
    "ExecuteTime": {
     "end_time": "2021-06-23T07:11:06.731024Z",
     "start_time": "2021-06-23T07:11:06.715067Z"
    },
    "execution": {
     "iopub.execute_input": "2020-08-23T07:51:41.249508Z",
     "iopub.status.busy": "2020-08-23T07:51:41.248456Z",
     "iopub.status.idle": "2020-08-23T07:51:41.251730Z",
     "shell.execute_reply": "2020-08-23T07:51:41.251026Z"
    },
    "papermill": {
     "duration": 0.024376,
     "end_time": "2020-08-23T07:51:41.251858",
     "exception": false,
     "start_time": "2020-08-23T07:51:41.227482",
     "status": "completed"
    },
    "tags": []
   },
   "outputs": [],
   "source": [
    "def extract_hog(img, img_size=28, orientations=9, pixels_per_cell=(2, 4), cells_per_block=(4, 3)):\n",
    "\n",
    "    fd = hog(img.reshape((img_size, img_size)), orientations=orientations, pixels_per_cell=pixels_per_cell, cells_per_block=cells_per_block, visualize=False)\n",
    "    return fd\n",
    "\n",
    "def parallel_extraction(images):\n",
    "    \n",
    "    # Parallel函数会创建一个进程池，以便在多进程中执行每一个列表项，设置参数n_jobs，即开启n_jobs个进程。\n",
    "    features = Parallel(n_jobs=os.cpu_count())(delayed(extract_hog)(img) for img in tqdm(images))\n",
    "    return np.array(features)"
   ]
  },
  {
   "cell_type": "code",
   "execution_count": 10,
   "metadata": {
    "ExecuteTime": {
     "end_time": "2021-06-23T07:11:48.606953Z",
     "start_time": "2021-06-23T07:11:08.592431Z"
    },
    "execution": {
     "iopub.execute_input": "2020-08-23T07:51:43.153282Z",
     "iopub.status.busy": "2020-08-23T07:51:43.152492Z",
     "iopub.status.idle": "2020-08-23T07:53:36.108874Z",
     "shell.execute_reply": "2020-08-23T07:53:36.109495Z"
    },
    "papermill": {
     "duration": 112.974126,
     "end_time": "2020-08-23T07:53:36.109688",
     "exception": false,
     "start_time": "2020-08-23T07:51:43.135562",
     "status": "completed"
    },
    "tags": []
   },
   "outputs": [
    {
     "name": "stderr",
     "output_type": "stream",
     "text": [
      "100%|██████████████████████████████████████████████████████████████████████████| 27455/27455 [00:22<00:00, 1220.79it/s]\n",
      "100%|████████████████████████████████████████████████████████████████████████████| 7172/7172 [00:06<00:00, 1156.29it/s]\n"
     ]
    }
   ],
   "source": [
    "# 使用方向梯度直方图构造特征\n",
    "X_train_hog = parallel_extraction(X_train)\n",
    "X_test_hog = parallel_extraction(X_test)"
   ]
  },
  {
   "cell_type": "code",
   "execution_count": 101,
   "metadata": {
    "ExecuteTime": {
     "end_time": "2021-06-23T02:36:06.583506Z",
     "start_time": "2021-06-23T02:33:59.408318Z"
    },
    "execution": {
     "iopub.execute_input": "2020-08-23T07:53:36.210717Z",
     "iopub.status.busy": "2020-08-23T07:53:36.209965Z",
     "iopub.status.idle": "2020-08-23T07:54:48.228339Z",
     "shell.execute_reply": "2020-08-23T07:54:48.229231Z"
    },
    "papermill": {
     "duration": 72.073154,
     "end_time": "2020-08-23T07:54:48.229449",
     "exception": false,
     "start_time": "2020-08-23T07:53:36.156295",
     "status": "completed"
    },
    "tags": []
   },
   "outputs": [
    {
     "name": "stdout",
     "output_type": "stream",
     "text": [
      "Fit time: 127.00558940000337\n",
      "Accuracy: 92.67\n"
     ]
    }
   ],
   "source": [
    "# 使用新特征训练模型\n",
    "start = timeit.default_timer()\n",
    "\n",
    "model = LogisticRegression(max_iter=10000, solver='lbfgs', multi_class='auto')\n",
    "model.fit(X_train_hog, y_train)\n",
    "\n",
    "end = timeit.default_timer()\n",
    "#计算拟合时间\n",
    "print(\"Fit time:\", end - start)\n",
    "\n",
    "y_pred = model.predict(X_test_hog)\n",
    "print(\"Accuracy: %.2f\" % (accuracy_score(y_test, y_pred) * 100))"
   ]
  },
  {
   "cell_type": "markdown",
   "metadata": {},
   "source": [
    "### 评估新模型"
   ]
  },
  {
   "cell_type": "code",
   "execution_count": 111,
   "metadata": {
    "ExecuteTime": {
     "end_time": "2021-06-23T03:05:12.002082Z",
     "start_time": "2021-06-23T03:05:11.966186Z"
    },
    "scrolled": true
   },
   "outputs": [
    {
     "name": "stdout",
     "output_type": "stream",
     "text": [
      "准确率:0.9266592303402119\n",
      "混淆矩阵:\n",
      "[[331   0   0   0   0   0   0   0   0   0   0   0   0   0   0   0   0   0\n",
      "    0   0   0   0   0   0]\n",
      " [  0 411   0   0   0   0   0   0   0  21   0   0   0   0   0   0   0   0\n",
      "    0   0   0   0   0   0]\n",
      " [  0   0 309   0   0   0   0   0   0   0   0   0   0   1   0   0   0   0\n",
      "    0   0   0   0   0   0]\n",
      " [  0   0   0 245   0   0   0   0   0   0   0   0   0   0   0   0   0   0\n",
      "    0   0   0   0   0   0]\n",
      " [  0   0   0   0 498   0   0   0   0   0   0   0   0   0   0   0   0   0\n",
      "    0   0   0   0   0   0]\n",
      " [  0   0   3   0   0 244   0   0   0   0   0   0   0   0   0   0   0   0\n",
      "    0   0   0   0   0   0]\n",
      " [  0   0   0   0   0   0 307  20   0   0   2   0   0   0   0   0   0   0\n",
      "   19   0   0   0   0   0]\n",
      " [  0   0   0   0   0   0  20 416   0   0   0   0   0   0   0   0   0   0\n",
      "    0   0   0   0   0   0]\n",
      " [  0  12   0   0   0   0   0   0 249   0   6   0   0   0   0   0   0   6\n",
      "    0   0   0   0   0  15]\n",
      " [  0   0   0   6   0   0   0   0   0 301   0   0   0   0   1   0  23   0\n",
      "    0   0   0   0   0   0]\n",
      " [  0   0   0   0   0   0   0   0   0   0 209   0   0   0   0   0   0   0\n",
      "    0   0   0   0   0   0]\n",
      " [  0   0   0   0  20   0   0   0  19   0   0 335   0   0   0   0   0  20\n",
      "    0   0   0   0   0   0]\n",
      " [  3   1   0   0   0   0   0   0   0   0   0  61 217   0   0   0   0   9\n",
      "    0   0   0   0   0   0]\n",
      " [  0   0   0   0   0   0   0   0   0   0   0   0   0 246   0   0   0   0\n",
      "    0   0   0   0   0   0]\n",
      " [  0   0   0   0   0   0   0   0   0   0   0   0   0   0 347   0   0   0\n",
      "    0   0   0   0   0   0]\n",
      " [  0   0   0   0   0   0   0   0   0   0   0   0   0   0   0 164   0   0\n",
      "    0   0   0   0   0   0]\n",
      " [  0   0   0   0   0   0   0   0   0   0   0   0   0   0   0   0 120   0\n",
      "    3   5  16   0   0   0]\n",
      " [  0   0   0   0   6   0   0   0   0   0   0   1   1   1   0   0   0 237\n",
      "    0   0   0   0   0   0]\n",
      " [  0   0   0   0   0   0   0   0   0   0  20   0   0   0   0   0   0   0\n",
      "  207   0   0   0  21   0]\n",
      " [  0   0   0  15   0   0   0   0   0   0   0   0   0   0   0   0  26   0\n",
      "    0 225   0   0   0   0]\n",
      " [  0   0   0   0   0   0   0   0   0   0   0   0   0   0   0   0  20   0\n",
      "    0   0 283  43   0   0]\n",
      " [  0   0   0   0   0   0   0   0   0   0   0   0   0   0   0   0   0   0\n",
      "    0   0  37 169   0   0]\n",
      " [  0   0   0   0   0   0   0   0   0   0   0   0   0   0   0   0   0   0\n",
      "    3   0   0   0 264   0]\n",
      " [  0   0   0   0   0   0   0   0   0   0   0   0   0   0   0   0   0   0\n",
      "    0   0   0  20   0 312]]\n",
      "分类报告:\n",
      "              precision    recall  f1-score   support\n",
      "\n",
      "           0       0.99      1.00      1.00       331\n",
      "           1       0.97      0.95      0.96       432\n",
      "           2       0.99      1.00      0.99       310\n",
      "           3       0.92      1.00      0.96       245\n",
      "           4       0.95      1.00      0.97       498\n",
      "           5       1.00      0.99      0.99       247\n",
      "           6       0.94      0.88      0.91       348\n",
      "           7       0.95      0.95      0.95       436\n",
      "           8       0.93      0.86      0.90       288\n",
      "          10       0.93      0.91      0.92       331\n",
      "          11       0.88      1.00      0.94       209\n",
      "          12       0.84      0.85      0.85       394\n",
      "          13       1.00      0.75      0.85       291\n",
      "          14       0.99      1.00      1.00       246\n",
      "          15       1.00      1.00      1.00       347\n",
      "          16       1.00      1.00      1.00       164\n",
      "          17       0.63      0.83      0.72       144\n",
      "          18       0.87      0.96      0.92       246\n",
      "          19       0.89      0.83      0.86       248\n",
      "          20       0.98      0.85      0.91       266\n",
      "          21       0.84      0.82      0.83       346\n",
      "          22       0.73      0.82      0.77       206\n",
      "          23       0.93      0.99      0.96       267\n",
      "          24       0.95      0.94      0.95       332\n",
      "\n",
      "    accuracy                           0.93      7172\n",
      "   macro avg       0.92      0.92      0.92      7172\n",
      "weighted avg       0.93      0.93      0.93      7172\n",
      "\n"
     ]
    }
   ],
   "source": [
    "# 准确率\n",
    "accuracy_score_value = accuracy_score(y_test, y_pred)\n",
    "print(f\"准确率:{accuracy_score_value}\")\n",
    "\n",
    "\n",
    "confusion_matrix_value = confusion_matrix(y_test, y_pred)\n",
    "print(f\"混淆矩阵:\\n{confusion_matrix_value}\")\n",
    "\n",
    "report = classification_report(y_test, y_pred)\n",
    "print(f\"分类报告:\\n{report}\")\n"
   ]
  },
  {
   "cell_type": "markdown",
   "metadata": {
    "papermill": {
     "duration": 0.049028,
     "end_time": "2020-08-23T07:54:50.872283",
     "exception": false,
     "start_time": "2020-08-23T07:54:50.823255",
     "status": "completed"
    },
    "tags": []
   },
   "source": [
    "### 寻找更好的模型参数"
   ]
  },
  {
   "cell_type": "code",
   "execution_count": 78,
   "metadata": {
    "ExecuteTime": {
     "end_time": "2021-06-22T15:08:50.219514Z",
     "start_time": "2021-06-22T13:03:43.812545Z"
    },
    "execution": {
     "iopub.execute_input": "2020-08-23T07:54:51.103867Z",
     "iopub.status.busy": "2020-08-23T07:54:50.977736Z",
     "iopub.status.idle": "2020-08-23T08:40:48.495004Z",
     "shell.execute_reply": "2020-08-23T08:40:48.494107Z"
    },
    "papermill": {
     "duration": 2757.574644,
     "end_time": "2020-08-23T08:40:48.495213",
     "exception": false,
     "start_time": "2020-08-23T07:54:50.920569",
     "status": "completed"
    },
    "scrolled": true,
    "tags": []
   },
   "outputs": [
    {
     "name": "stdout",
     "output_type": "stream",
     "text": [
      "=============\n",
      "Param {'pca__n_components': 300, 'clf__estimator__C': 0.001}\n",
      "Training time: 29.96\n",
      "Accuracy: 80.97\n",
      "=============\n",
      "Param {'pca__n_components': 300, 'clf__estimator__C': 0.01}\n",
      "Training time: 34.98\n",
      "Accuracy: 90.38\n",
      "=============\n",
      "Param {'pca__n_components': 300, 'clf__estimator__C': 0.1}\n",
      "Training time: 32.68\n",
      "Accuracy: 91.82\n",
      "=============\n",
      "Param {'pca__n_components': 300, 'clf__estimator__C': 1.0}\n",
      "Training time: 31.36\n",
      "Accuracy: 92.09\n",
      "=============\n",
      "Param {'pca__n_components': 300, 'clf__estimator__C': 10.0}\n",
      "Training time: 30.39\n",
      "Accuracy: 92.25\n",
      "=============\n",
      "Param {'pca__n_components': 300, 'clf__estimator__C': 100.0}\n",
      "Training time: 32.00\n",
      "Accuracy: 92.48\n",
      "=============\n",
      "Param {'pca__n_components': 300, 'clf__estimator__C': 1000.0}\n",
      "Training time: 30.68\n",
      "Accuracy: 92.57\n",
      "=============\n",
      "Param {'pca__n_components': 350, 'clf__estimator__C': 0.001}\n",
      "Training time: 31.97\n",
      "Accuracy: 81.34\n",
      "=============\n",
      "Param {'pca__n_components': 350, 'clf__estimator__C': 0.01}\n",
      "Training time: 34.45\n",
      "Accuracy: 90.69\n",
      "=============\n",
      "Param {'pca__n_components': 350, 'clf__estimator__C': 0.1}\n",
      "Training time: 33.81\n",
      "Accuracy: 91.52\n",
      "=============\n",
      "Param {'pca__n_components': 350, 'clf__estimator__C': 1.0}\n",
      "Training time: 35.38\n",
      "Accuracy: 92.21\n",
      "=============\n",
      "Param {'pca__n_components': 350, 'clf__estimator__C': 10.0}\n",
      "Training time: 34.58\n",
      "Accuracy: 92.41\n",
      "=============\n",
      "Param {'pca__n_components': 350, 'clf__estimator__C': 100.0}\n",
      "Training time: 35.34\n",
      "Accuracy: 92.58\n",
      "=============\n",
      "Param {'pca__n_components': 350, 'clf__estimator__C': 1000.0}\n",
      "Training time: 39.16\n",
      "Accuracy: 92.50\n",
      "=============\n",
      "Param {'pca__n_components': 400, 'clf__estimator__C': 0.001}\n",
      "Training time: 40.59\n",
      "Accuracy: 81.71\n",
      "=============\n",
      "Param {'pca__n_components': 400, 'clf__estimator__C': 0.01}\n",
      "Training time: 39.23\n",
      "Accuracy: 90.87\n",
      "=============\n",
      "Param {'pca__n_components': 400, 'clf__estimator__C': 0.1}\n",
      "Training time: 40.35\n",
      "Accuracy: 91.90\n",
      "=============\n",
      "Param {'pca__n_components': 400, 'clf__estimator__C': 1.0}\n",
      "Training time: 41.78\n",
      "Accuracy: 92.32\n",
      "=============\n",
      "Param {'pca__n_components': 400, 'clf__estimator__C': 10.0}\n",
      "Training time: 42.30\n",
      "Accuracy: 92.53\n",
      "=============\n",
      "Param {'pca__n_components': 400, 'clf__estimator__C': 100.0}\n",
      "Training time: 47.69\n",
      "Accuracy: 92.62\n",
      "=============\n",
      "Param {'pca__n_components': 400, 'clf__estimator__C': 1000.0}\n",
      "Training time: 1756.75\n",
      "Accuracy: 92.72\n",
      "=============\n",
      "Param {'pca__n_components': 450, 'clf__estimator__C': 0.001}\n",
      "Training time: 50.59\n",
      "Accuracy: 81.85\n",
      "=============\n",
      "Param {'pca__n_components': 450, 'clf__estimator__C': 0.01}\n",
      "Training time: 51.82\n",
      "Accuracy: 90.78\n",
      "=============\n",
      "Param {'pca__n_components': 450, 'clf__estimator__C': 0.1}\n",
      "Training time: 49.53\n",
      "Accuracy: 92.02\n",
      "=============\n",
      "Param {'pca__n_components': 450, 'clf__estimator__C': 1.0}\n",
      "Training time: 49.38\n",
      "Accuracy: 92.44\n",
      "=============\n",
      "Param {'pca__n_components': 450, 'clf__estimator__C': 10.0}\n",
      "Training time: 48.59\n",
      "Accuracy: 92.90\n",
      "=============\n",
      "Param {'pca__n_components': 450, 'clf__estimator__C': 100.0}\n",
      "Training time: 49.88\n",
      "Accuracy: 92.97\n",
      "=============\n",
      "Param {'pca__n_components': 450, 'clf__estimator__C': 1000.0}\n",
      "Training time: 48.79\n",
      "Accuracy: 93.01\n",
      "=============\n",
      "Param {'pca__n_components': 500, 'clf__estimator__C': 0.001}\n",
      "Training time: 49.07\n",
      "Accuracy: 82.07\n",
      "=============\n",
      "Param {'pca__n_components': 500, 'clf__estimator__C': 0.01}\n",
      "Training time: 52.06\n",
      "Accuracy: 90.74\n",
      "=============\n",
      "Param {'pca__n_components': 500, 'clf__estimator__C': 0.1}\n",
      "Training time: 52.66\n",
      "Accuracy: 91.95\n",
      "=============\n",
      "Param {'pca__n_components': 500, 'clf__estimator__C': 1.0}\n",
      "Training time: 54.95\n",
      "Accuracy: 92.61\n",
      "=============\n",
      "Param {'pca__n_components': 500, 'clf__estimator__C': 10.0}\n",
      "Training time: 55.08\n",
      "Accuracy: 92.88\n",
      "=============\n",
      "Param {'pca__n_components': 500, 'clf__estimator__C': 100.0}\n",
      "Training time: 55.25\n",
      "Accuracy: 92.97\n",
      "=============\n",
      "Param {'pca__n_components': 500, 'clf__estimator__C': 1000.0}\n",
      "Training time: 55.14\n",
      "Accuracy: 92.86\n",
      "=============\n",
      "Param {'pca__n_components': 550, 'clf__estimator__C': 0.001}\n",
      "Training time: 57.06\n",
      "Accuracy: 82.12\n",
      "=============\n",
      "Param {'pca__n_components': 550, 'clf__estimator__C': 0.01}\n",
      "Training time: 59.50\n",
      "Accuracy: 90.90\n",
      "=============\n",
      "Param {'pca__n_components': 550, 'clf__estimator__C': 0.1}\n",
      "Training time: 61.72\n",
      "Accuracy: 92.00\n",
      "=============\n",
      "Param {'pca__n_components': 550, 'clf__estimator__C': 1.0}\n",
      "Training time: 58.16\n",
      "Accuracy: 92.55\n",
      "=============\n",
      "Param {'pca__n_components': 550, 'clf__estimator__C': 10.0}\n",
      "Training time: 58.72\n",
      "Accuracy: 92.94\n",
      "=============\n",
      "Param {'pca__n_components': 550, 'clf__estimator__C': 100.0}\n",
      "Training time: 58.93\n",
      "Accuracy: 92.92\n",
      "=============\n",
      "Param {'pca__n_components': 550, 'clf__estimator__C': 1000.0}\n",
      "Training time: 59.64\n",
      "Accuracy: 93.03\n",
      "=============\n",
      "Param {'pca__n_components': 600, 'clf__estimator__C': 0.001}\n",
      "Training time: 42.19\n",
      "Accuracy: 82.18\n",
      "=============\n",
      "Param {'pca__n_components': 600, 'clf__estimator__C': 0.01}\n",
      "Training time: 42.80\n",
      "Accuracy: 90.95\n",
      "=============\n",
      "Param {'pca__n_components': 600, 'clf__estimator__C': 0.1}\n",
      "Training time: 44.92\n",
      "Accuracy: 92.16\n",
      "=============\n",
      "Param {'pca__n_components': 600, 'clf__estimator__C': 1.0}\n",
      "Training time: 47.40\n",
      "Accuracy: 92.69\n",
      "=============\n",
      "Param {'pca__n_components': 600, 'clf__estimator__C': 10.0}\n",
      "Training time: 48.18\n",
      "Accuracy: 92.82\n",
      "=============\n",
      "Param {'pca__n_components': 600, 'clf__estimator__C': 100.0}\n",
      "Training time: 48.35\n",
      "Accuracy: 92.96\n",
      "=============\n",
      "Param {'pca__n_components': 600, 'clf__estimator__C': 1000.0}\n",
      "Training time: 48.22\n",
      "Accuracy: 93.15\n",
      "=============\n",
      "Param {'pca__n_components': 650, 'clf__estimator__C': 0.001}\n",
      "Training time: 43.97\n",
      "Accuracy: 82.17\n",
      "=============\n",
      "Param {'pca__n_components': 650, 'clf__estimator__C': 0.01}\n",
      "Training time: 45.12\n",
      "Accuracy: 90.95\n",
      "=============\n",
      "Param {'pca__n_components': 650, 'clf__estimator__C': 0.1}\n",
      "Training time: 48.70\n",
      "Accuracy: 92.12\n",
      "=============\n",
      "Param {'pca__n_components': 650, 'clf__estimator__C': 1.0}\n",
      "Training time: 50.73\n",
      "Accuracy: 92.69\n",
      "=============\n",
      "Param {'pca__n_components': 650, 'clf__estimator__C': 10.0}\n",
      "Training time: 51.77\n",
      "Accuracy: 92.92\n",
      "=============\n",
      "Param {'pca__n_components': 650, 'clf__estimator__C': 100.0}\n",
      "Training time: 51.63\n",
      "Accuracy: 93.08\n",
      "=============\n",
      "Param {'pca__n_components': 650, 'clf__estimator__C': 1000.0}\n",
      "Training time: 50.52\n",
      "Accuracy: 93.21\n",
      "=============\n",
      "Param {'pca__n_components': 700, 'clf__estimator__C': 0.001}\n",
      "Training time: 47.45\n",
      "Accuracy: 82.15\n",
      "=============\n",
      "Param {'pca__n_components': 700, 'clf__estimator__C': 0.01}\n",
      "Training time: 49.42\n",
      "Accuracy: 90.99\n",
      "=============\n",
      "Param {'pca__n_components': 700, 'clf__estimator__C': 0.1}\n",
      "Training time: 52.17\n",
      "Accuracy: 92.09\n",
      "=============\n",
      "Param {'pca__n_components': 700, 'clf__estimator__C': 1.0}\n",
      "Training time: 54.15\n",
      "Accuracy: 92.71\n",
      "=============\n",
      "Param {'pca__n_components': 700, 'clf__estimator__C': 10.0}\n",
      "Training time: 55.29\n",
      "Accuracy: 92.94\n",
      "=============\n",
      "Param {'pca__n_components': 700, 'clf__estimator__C': 100.0}\n",
      "Training time: 55.38\n",
      "Accuracy: 93.11\n",
      "=============\n",
      "Param {'pca__n_components': 700, 'clf__estimator__C': 1000.0}\n",
      "Training time: 54.58\n",
      "Accuracy: 93.28\n",
      "=============\n",
      "Param {'pca__n_components': 750, 'clf__estimator__C': 0.001}\n",
      "Training time: 50.19\n",
      "Accuracy: 82.21\n",
      "=============\n",
      "Param {'pca__n_components': 750, 'clf__estimator__C': 0.01}\n",
      "Training time: 53.22\n",
      "Accuracy: 90.98\n",
      "=============\n",
      "Param {'pca__n_components': 750, 'clf__estimator__C': 0.1}\n",
      "Training time: 54.72\n",
      "Accuracy: 92.07\n",
      "=============\n",
      "Param {'pca__n_components': 750, 'clf__estimator__C': 1.0}\n",
      "Training time: 57.26\n",
      "Accuracy: 92.71\n",
      "=============\n",
      "Param {'pca__n_components': 750, 'clf__estimator__C': 10.0}\n",
      "Training time: 58.30\n",
      "Accuracy: 92.96\n",
      "=============\n",
      "Param {'pca__n_components': 750, 'clf__estimator__C': 100.0}\n",
      "Training time: 58.34\n",
      "Accuracy: 93.15\n",
      "=============\n",
      "Param {'pca__n_components': 750, 'clf__estimator__C': 1000.0}\n",
      "Training time: 57.39\n",
      "Accuracy: 93.31\n",
      "=============\n",
      "Param {'pca__n_components': 800, 'clf__estimator__C': 0.001}\n",
      "Training time: 54.32\n",
      "Accuracy: 82.22\n",
      "=============\n",
      "Param {'pca__n_components': 800, 'clf__estimator__C': 0.01}\n",
      "Training time: 57.67\n",
      "Accuracy: 90.98\n",
      "=============\n",
      "Param {'pca__n_components': 800, 'clf__estimator__C': 0.1}\n",
      "Training time: 59.49\n",
      "Accuracy: 92.09\n",
      "=============\n",
      "Param {'pca__n_components': 800, 'clf__estimator__C': 1.0}\n",
      "Training time: 62.78\n"
     ]
    },
    {
     "name": "stdout",
     "output_type": "stream",
     "text": [
      "Accuracy: 92.72\n",
      "=============\n",
      "Param {'pca__n_components': 800, 'clf__estimator__C': 10.0}\n",
      "Training time: 63.87\n",
      "Accuracy: 93.06\n",
      "=============\n",
      "Param {'pca__n_components': 800, 'clf__estimator__C': 100.0}\n",
      "Training time: 63.62\n",
      "Accuracy: 93.14\n",
      "=============\n",
      "Param {'pca__n_components': 800, 'clf__estimator__C': 1000.0}\n",
      "Training time: 62.65\n",
      "Accuracy: 93.32\n",
      "=============\n",
      "Param {'pca__n_components': 850, 'clf__estimator__C': 0.001}\n",
      "Training time: 59.72\n",
      "Accuracy: 82.25\n",
      "=============\n",
      "Param {'pca__n_components': 850, 'clf__estimator__C': 0.01}\n",
      "Training time: 60.90\n",
      "Accuracy: 91.01\n",
      "=============\n",
      "Param {'pca__n_components': 850, 'clf__estimator__C': 0.1}\n",
      "Training time: 63.84\n",
      "Accuracy: 92.04\n",
      "=============\n",
      "Param {'pca__n_components': 850, 'clf__estimator__C': 1.0}\n",
      "Training time: 67.57\n",
      "Accuracy: 92.65\n",
      "=============\n",
      "Param {'pca__n_components': 850, 'clf__estimator__C': 10.0}\n",
      "Training time: 70.14\n",
      "Accuracy: 93.06\n",
      "=============\n",
      "Param {'pca__n_components': 850, 'clf__estimator__C': 100.0}\n",
      "Training time: 69.51\n",
      "Accuracy: 93.15\n",
      "=============\n",
      "Param {'pca__n_components': 850, 'clf__estimator__C': 1000.0}\n",
      "Training time: 68.53\n",
      "Accuracy: 93.39\n",
      "=============\n",
      "Param {'pca__n_components': 900, 'clf__estimator__C': 0.001}\n",
      "Training time: 62.09\n",
      "Accuracy: 82.22\n",
      "=============\n",
      "Param {'pca__n_components': 900, 'clf__estimator__C': 0.01}\n",
      "Training time: 65.12\n",
      "Accuracy: 90.98\n",
      "=============\n",
      "Param {'pca__n_components': 900, 'clf__estimator__C': 0.1}\n",
      "Training time: 70.30\n",
      "Accuracy: 92.05\n",
      "=============\n",
      "Param {'pca__n_components': 900, 'clf__estimator__C': 1.0}\n",
      "Training time: 70.84\n",
      "Accuracy: 92.71\n",
      "=============\n",
      "Param {'pca__n_components': 900, 'clf__estimator__C': 10.0}\n",
      "Training time: 71.95\n",
      "Accuracy: 93.07\n",
      "=============\n",
      "Param {'pca__n_components': 900, 'clf__estimator__C': 100.0}\n",
      "Training time: 73.46\n",
      "Accuracy: 93.20\n",
      "=============\n",
      "Param {'pca__n_components': 900, 'clf__estimator__C': 1000.0}\n",
      "Training time: 71.36\n",
      "Accuracy: 93.40\n",
      "=============\n",
      "Param {'pca__n_components': 950, 'clf__estimator__C': 0.001}\n",
      "Training time: 65.62\n",
      "Accuracy: 82.22\n",
      "=============\n",
      "Param {'pca__n_components': 950, 'clf__estimator__C': 0.01}\n",
      "Training time: 67.46\n",
      "Accuracy: 90.99\n",
      "=============\n",
      "Param {'pca__n_components': 950, 'clf__estimator__C': 0.1}\n",
      "Training time: 70.71\n",
      "Accuracy: 92.05\n",
      "=============\n",
      "Param {'pca__n_components': 950, 'clf__estimator__C': 1.0}\n",
      "Training time: 74.78\n",
      "Accuracy: 92.72\n",
      "=============\n",
      "Param {'pca__n_components': 950, 'clf__estimator__C': 10.0}\n",
      "Training time: 75.71\n",
      "Accuracy: 93.10\n",
      "=============\n",
      "Param {'pca__n_components': 950, 'clf__estimator__C': 100.0}\n",
      "Training time: 75.62\n",
      "Accuracy: 93.22\n",
      "=============\n",
      "Param {'pca__n_components': 950, 'clf__estimator__C': 1000.0}\n",
      "Training time: 75.27\n",
      "Accuracy: 93.42\n",
      "Best param: {'pca__n_components': 950, 'clf__estimator__C': 1000.0}\n"
     ]
    }
   ],
   "source": [
    "# 设置超参数\n",
    "params = []\n",
    "for n_component in np.arange(300, 1000, 50):\n",
    "    for C_value in np.logspace(-3, 3, 7):\n",
    "        params.append({\n",
    "        \"pca__n_components\" : n_component,\n",
    "        \"clf__estimator__C\" : C_value \n",
    "        })\n",
    "\n",
    "best_score = 0\n",
    "best_param = None\n",
    "\n",
    "# 循环寻找最好的拟合参数\n",
    "for param in params:\n",
    "    pipeline = Pipeline([\n",
    "                      ('pca', PCA()),\n",
    "                      ('clf', OneVsOneClassifier(\n",
    "                          LogisticRegression(max_iter=10000, solver='lbfgs', multi_class='auto'))\n",
    "                      )\n",
    "    ])\n",
    "\n",
    "    pipeline.set_params(**param)\n",
    "    start = timeit.default_timer()\n",
    "    pipeline.fit(X_train_hog, y_train)\n",
    "    stop = timeit.default_timer()\n",
    "    print(\"=============\")\n",
    "    print(\"Parameter\", param)\n",
    "    print(\"Training time: %.2f\" % (stop - start))\n",
    "    current_score = pipeline.score(X_test_hog, y_test)\n",
    "    print(\"Accuracy: %.2f\" % (current_score * 100))\n",
    "    if current_score > best_score:\n",
    "        best_param = param\n",
    "        best_score = current_score\n",
    "\n",
    "print(\"Best parameter:\", best_param)"
   ]
  },
  {
   "cell_type": "markdown",
   "metadata": {
    "papermill": {
     "duration": 0.060931,
     "end_time": "2020-08-23T08:40:48.620044",
     "exception": false,
     "start_time": "2020-08-23T08:40:48.559113",
     "status": "completed"
    },
    "tags": []
   },
   "source": [
    "C=1000 , PCA_n_components=950 时，Accuracy最高为93.42"
   ]
  },
  {
   "cell_type": "markdown",
   "metadata": {
    "papermill": {
     "duration": 0.060399,
     "end_time": "2020-08-23T08:40:48.741170",
     "exception": false,
     "start_time": "2020-08-23T08:40:48.680771",
     "status": "completed"
    },
    "tags": []
   },
   "source": [
    "### 最终使用的模型"
   ]
  },
  {
   "cell_type": "code",
   "execution_count": 11,
   "metadata": {
    "ExecuteTime": {
     "end_time": "2021-06-23T07:11:50.837141Z",
     "start_time": "2021-06-23T07:11:50.784302Z"
    },
    "execution": {
     "iopub.execute_input": "2020-08-23T08:40:48.879996Z",
     "iopub.status.busy": "2020-08-23T08:40:48.879261Z",
     "iopub.status.idle": "2020-08-23T08:40:48.882197Z",
     "shell.execute_reply": "2020-08-23T08:40:48.882754Z"
    },
    "papermill": {
     "duration": 0.081261,
     "end_time": "2020-08-23T08:40:48.882918",
     "exception": false,
     "start_time": "2020-08-23T08:40:48.801657",
     "status": "completed"
    },
    "tags": []
   },
   "outputs": [],
   "source": [
    " CONFIGS = {\n",
    "    'C' : 1000,\n",
    "    'MAX_ITER' : 10000,\n",
    "    'N_COMPONENTS' : 950,\n",
    "}\n",
    "\n",
    "def train(X_train, y_train, model=None):\n",
    "\n",
    "    X_train = parallel_extraction(X_train)\n",
    "\n",
    "    print(\"***** TRAINING *****\")\n",
    "    if model is None:\n",
    "        print(\"Initializing model\")\n",
    "        model = Pipeline([\n",
    "                            ('pca', PCA(n_components=CONFIGS['N_COMPONENTS'])),\n",
    "                            ('clf', OneVsOneClassifier(\n",
    "                                LogisticRegression(C=CONFIGS['C'], \n",
    "                                                   max_iter=CONFIGS['MAX_ITER'], \n",
    "                                                   solver='lbfgs', multi_class='auto')))\n",
    "        ])\n",
    "\n",
    "    print(\"Training model\")\n",
    "    model.fit(X_train, y_train)\n",
    "\n",
    "    print(\"Finished training model\")\n",
    "    return model\n",
    "\n",
    "def predict(X_test, y_test, model=None):\n",
    "    \n",
    "    X_test = parallel_extraction(X_test)\n",
    "\n",
    "    print(\"***** PREDICTION *****\")\n",
    "    if model is None: \n",
    "        print(\"Start loading model\")\n",
    "        model = load_pickle(CONFIGS['MODEL_PATH'])\n",
    "\n",
    "    print(\"Predicting\")\n",
    "    y_pred = model.predict(X_test)\n",
    "\n",
    "    print(\"Scoring model\")\n",
    "    missed_labels = np.sum(y_pred != y_test)\n",
    "    accuracy = accuracy_score(y_test, y_pred)\n",
    "\n",
    "    print(\"Accuracy: {:.4f}\".format(accuracy))\n",
    "    print(\"Missed Label: \", missed_labels)\n",
    "\n",
    "    print(\"Finished predicting model!\")\n",
    "    return y_pred\n"
   ]
  },
  {
   "cell_type": "markdown",
   "metadata": {
    "papermill": {
     "duration": 0.060674,
     "end_time": "2020-08-23T08:40:49.004562",
     "exception": false,
     "start_time": "2020-08-23T08:40:48.943888",
     "status": "completed"
    },
    "tags": []
   },
   "source": [
    "### 训练与评估"
   ]
  },
  {
   "cell_type": "code",
   "execution_count": 13,
   "metadata": {
    "ExecuteTime": {
     "end_time": "2021-06-23T07:19:25.980579Z",
     "start_time": "2021-06-23T07:16:58.373788Z"
    },
    "execution": {
     "iopub.execute_input": "2020-08-23T08:40:49.140613Z",
     "iopub.status.busy": "2020-08-23T08:40:49.139475Z",
     "iopub.status.idle": "2020-08-23T08:43:32.307855Z",
     "shell.execute_reply": "2020-08-23T08:43:32.308476Z"
    },
    "papermill": {
     "duration": 163.242365,
     "end_time": "2020-08-23T08:43:32.308686",
     "exception": false,
     "start_time": "2020-08-23T08:40:49.066321",
     "status": "completed"
    },
    "tags": []
   },
   "outputs": [
    {
     "name": "stderr",
     "output_type": "stream",
     "text": [
      "100%|██████████████████████████████████████████████████████████████████████████| 27455/27455 [00:17<00:00, 1556.95it/s]\n"
     ]
    },
    {
     "name": "stdout",
     "output_type": "stream",
     "text": [
      "***** TRAINING *****\n",
      "Initializing model\n",
      "Training model\n"
     ]
    },
    {
     "name": "stderr",
     "output_type": "stream",
     "text": [
      "\r",
      "  0%|                                                                                         | 0/7172 [00:00<?, ?it/s]"
     ]
    },
    {
     "name": "stdout",
     "output_type": "stream",
     "text": [
      "Finished training model\n"
     ]
    },
    {
     "name": "stderr",
     "output_type": "stream",
     "text": [
      "100%|████████████████████████████████████████████████████████████████████████████| 7172/7172 [00:05<00:00, 1249.48it/s]\n"
     ]
    },
    {
     "name": "stdout",
     "output_type": "stream",
     "text": [
      "***** PREDICTION *****\n",
      "Predicting\n",
      "Scoring model\n",
      "Accuracy: 0.9340\n",
      "Missed Label:  473\n",
      "Finished predicting model!\n"
     ]
    }
   ],
   "source": [
    "# 读取数据\n",
    "X_train, y_train = read_file(trainSet_path)\n",
    "X_test, y_test = read_file(testSet_path)\n",
    "\n",
    "# 给定的像素的灰度值在0-255，为了使模型的训练效果更好，将数值归一化映射到0-1 \n",
    "X_train /= 255\n",
    "X_test /= 255\n",
    "\n",
    "# 训练模型\n",
    "model = train(X_train, y_train)\n",
    "\n",
    "# 使用测试集进行预测\n",
    "y_pred = predict(X_test, y_test, model)"
   ]
  },
  {
   "cell_type": "markdown",
   "metadata": {},
   "source": [
    "### 评估"
   ]
  },
  {
   "cell_type": "code",
   "execution_count": 15,
   "metadata": {
    "ExecuteTime": {
     "end_time": "2021-06-23T07:19:39.488756Z",
     "start_time": "2021-06-23T07:19:39.329664Z"
    },
    "scrolled": true
   },
   "outputs": [
    {
     "name": "stdout",
     "output_type": "stream",
     "text": [
      "准确率:0.9340490797546013\n",
      "混淆矩阵:\n",
      "[[331   0   0   0   0   0   0   0   0   0   0   0   0   0   0   0   0   0\n",
      "    0   0   0   0   0   0]\n",
      " [  0 411   0   0   0   0   0   0   0  21   0   0   0   0   0   0   0   0\n",
      "    0   0   0   0   0   0]\n",
      " [  0   0 310   0   0   0   0   0   0   0   0   0   0   0   0   0   0   0\n",
      "    0   0   0   0   0   0]\n",
      " [  0   0   0 241   0   0   0   0   0   0   0   0   0   0   0   0   0   4\n",
      "    0   0   0   0   0   0]\n",
      " [  0   0   0   0 498   0   0   0   0   0   0   0   0   0   0   0   0   0\n",
      "    0   0   0   0   0   0]\n",
      " [  0   0   0   0   0 247   0   0   0   0   0   0   0   0   0   0   0   0\n",
      "    0   0   0   0   0   0]\n",
      " [  0   0   0   0   0   0 311  19   0   0   0   0   0   0   0   0   0   0\n",
      "   18   0   0   0   0   0]\n",
      " [  0   0   0   0   0   0  20 416   0   0   0   0   0   0   0   0   0   0\n",
      "    0   0   0   0   0   0]\n",
      " [  0   0   0   0   0   0   0   0 268   0   0   0   0   0   0   0   0   0\n",
      "    0   0   0   0   0  20]\n",
      " [  0   0   0   0   0   0   0   0   0 282   0   0   0   0   0   0  41   0\n",
      "    0   8   0   0   0   0]\n",
      " [  0   0   0   0   0   0   0   0   0   0 209   0   0   0   0   0   0   0\n",
      "    0   0   0   0   0   0]\n",
      " [  0   0   0   0   1   0   0   0  12   0   0 325   0   0   0   0   0  56\n",
      "    0   0   0   0   0   0]\n",
      " [  0   0   0   0   0   0   0   0   0   0   0  60 226   0   0   0   0   5\n",
      "    0   0   0   0   0   0]\n",
      " [  0   0   0   0   0   0   0   0   0   0   0   0   0 246   0   0   0   0\n",
      "    0   0   0   0   0   0]\n",
      " [  0   0   0   0   0   0   0   0   0   0   0   0   0   0 347   0   0   0\n",
      "    0   0   0   0   0   0]\n",
      " [  0   0   0   0   0   0   0   0   0   0   0   0   0   0   0 164   0   0\n",
      "    0   0   0   0   0   0]\n",
      " [  0   0   0   0   0   0   0   0   0   0   0   0   0   0   0   0 120   0\n",
      "    0  24   0   0   0   0]\n",
      " [  0   0   0   0  20   0   0   0   2   0   0   0   0   0   0   0   0 224\n",
      "    0   0   0   0   0   0]\n",
      " [  0   0   0   0   0   0   0   0   0   0   7   0   0   0   0   0   0   0\n",
      "  220   0   0   0  21   0]\n",
      " [  0   0   0   8   0   0   0   0   0   0   0   0   0   0   0   0  31   0\n",
      "    0 227   0   0   0   0]\n",
      " [  0   0   0   0   0   0   0   0   0   0   0   0   0   0   0   0  20   0\n",
      "    0   0 300  26   0   0]\n",
      " [  0   0   0   0   0   0   0   0   0   0   0   0   0   0   0   0   0   0\n",
      "    0   0   8 198   0   0]\n",
      " [  0   0   0   0   0   0   0   0   0   0   0   0   0   0   0   0   0   0\n",
      "    0   0   0   0 267   0]\n",
      " [  0   0   0   0   0   0   0   0   0   0   0   1   0   0   0   0   0   0\n",
      "    0   0   0  20   0 311]]\n",
      "分类报告:\n",
      "              precision    recall  f1-score   support\n",
      "\n",
      "           0       1.00      1.00      1.00       331\n",
      "           1       1.00      0.95      0.98       432\n",
      "           2       1.00      1.00      1.00       310\n",
      "           3       0.97      0.98      0.98       245\n",
      "           4       0.96      1.00      0.98       498\n",
      "           5       1.00      1.00      1.00       247\n",
      "           6       0.94      0.89      0.92       348\n",
      "           7       0.96      0.95      0.96       436\n",
      "           8       0.95      0.93      0.94       288\n",
      "          10       0.93      0.85      0.89       331\n",
      "          11       0.97      1.00      0.98       209\n",
      "          12       0.84      0.82      0.83       394\n",
      "          13       1.00      0.78      0.87       291\n",
      "          14       1.00      1.00      1.00       246\n",
      "          15       1.00      1.00      1.00       347\n",
      "          16       1.00      1.00      1.00       164\n",
      "          17       0.57      0.83      0.67       144\n",
      "          18       0.78      0.91      0.84       246\n",
      "          19       0.92      0.89      0.91       248\n",
      "          20       0.88      0.85      0.86       266\n",
      "          21       0.97      0.87      0.92       346\n",
      "          22       0.81      0.96      0.88       206\n",
      "          23       0.93      1.00      0.96       267\n",
      "          24       0.94      0.94      0.94       332\n",
      "\n",
      "    accuracy                           0.93      7172\n",
      "   macro avg       0.93      0.93      0.93      7172\n",
      "weighted avg       0.94      0.93      0.94      7172\n",
      "\n"
     ]
    }
   ],
   "source": [
    "# 准确率\n",
    "accuracy_score_value = accuracy_score(y_test, y_pred)\n",
    "print(f\"准确率:{accuracy_score_value}\")\n",
    "\n",
    "\n",
    "confusion_matrix_value = confusion_matrix(y_test, y_pred)\n",
    "print(f\"混淆矩阵:\\n{confusion_matrix_value}\")\n",
    "\n",
    "report = classification_report(y_test, y_pred)\n",
    "print(f\"分类报告:\\n{report}\")\n"
   ]
  },
  {
   "cell_type": "markdown",
   "metadata": {},
   "source": [
    "### 存储预测结果"
   ]
  },
  {
   "cell_type": "code",
   "execution_count": 20,
   "metadata": {
    "ExecuteTime": {
     "end_time": "2021-06-23T07:23:36.587973Z",
     "start_time": "2021-06-23T07:23:36.457429Z"
    }
   },
   "outputs": [],
   "source": [
    "df = pd.DataFrame()\n",
    "df['y_true'] = y_test\n",
    "df['y_pred'] = y_pred\n",
    "df.to_csv(\"./predict_result.csv\", index = False)"
   ]
  },
  {
   "cell_type": "markdown",
   "metadata": {},
   "source": [
    "### 将预测结果上传到s3"
   ]
  },
  {
   "cell_type": "code",
   "execution_count": 21,
   "metadata": {
    "ExecuteTime": {
     "end_time": "2021-06-23T07:25:25.270774Z",
     "start_time": "2021-06-23T07:25:25.126034Z"
    }
   },
   "outputs": [],
   "source": [
    "import boto3\n",
    "from botocore.client import Config\n",
    "\n",
    "access_key = ''  # access_key\n",
    "secret_key = '' # secret_key\n",
    "host=''    # endpoint\n",
    "bucket_name = 'work4'  # 存储桶名字\n",
    "local_file_path = 'Jupyter/predict_result.csv'   # 要上传的文件路径\n",
    "key_name = 'predict_result.csv'   # 存储在桶中的key\n",
    "\n",
    "s3 = boto3.client('s3',\n",
    "    aws_access_key_id=access_key,\n",
    "    aws_secret_access_key=secret_key,\n",
    "    endpoint_url=host,\n",
    "   config=Config(signature_version='s3'),\n",
    "    region_name='cn-north-1')\n"
   ]
  },
  {
   "cell_type": "code",
   "execution_count": 23,
   "metadata": {
    "ExecuteTime": {
     "end_time": "2021-06-23T07:25:53.351606Z",
     "start_time": "2021-06-23T07:25:53.156485Z"
    }
   },
   "outputs": [
    {
     "data": {
      "text/plain": [
       "{'ResponseMetadata': {'RequestId': 'tx00000000000000004d3a0-0060d2e201-10af8060-default',\n",
       "  'HostId': '',\n",
       "  'HTTPStatusCode': 200,\n",
       "  'HTTPHeaders': {'content-length': '0',\n",
       "   'etag': '\"94ce1ee1144d05f534691fa9b0c2be93\"',\n",
       "   'accept-ranges': 'bytes',\n",
       "   'server': 'BingoCloudS3 2.2.0',\n",
       "   'x-amz-request-id': 'tx00000000000000004d3a0-0060d2e201-10af8060-default',\n",
       "   'date': 'Wed, 23 Jun 2021 07:25:53 GMT',\n",
       "   'connection': 'Keep-Alive'},\n",
       "  'RetryAttempts': 0},\n",
       " 'ETag': '\"94ce1ee1144d05f534691fa9b0c2be93\"'}"
      ]
     },
     "execution_count": 23,
     "metadata": {},
     "output_type": "execute_result"
    }
   ],
   "source": [
    "s3.put_object(Bucket = bucket_name,Body = local_file_path, Key = key_name, ACL='public-read')"
   ]
  },
  {
   "cell_type": "code",
   "execution_count": null,
   "metadata": {},
   "outputs": [],
   "source": []
  }
 ],
 "metadata": {
  "kernelspec": {
   "display_name": "Python [conda env:jupyter]",
   "language": "python",
   "name": "conda-env-jupyter-py"
  },
  "language_info": {
   "codemirror_mode": {
    "name": "ipython",
    "version": 3
   },
   "file_extension": ".py",
   "mimetype": "text/x-python",
   "name": "python",
   "nbconvert_exporter": "python",
   "pygments_lexer": "ipython3",
   "version": "3.7.9"
  },
  "papermill": {
   "duration": 4140.757775,
   "end_time": "2020-08-23T08:43:32.520545",
   "environment_variables": {},
   "exception": null,
   "input_path": "__notebook__.ipynb",
   "output_path": "__notebook__.ipynb",
   "parameters": {},
   "start_time": "2020-08-23T07:34:31.762770",
   "version": "2.1.0"
  },
  "varInspector": {
   "cols": {
    "lenName": 16,
    "lenType": 16,
    "lenVar": 40
   },
   "kernels_config": {
    "python": {
     "delete_cmd_postfix": "",
     "delete_cmd_prefix": "del ",
     "library": "var_list.py",
     "varRefreshCmd": "print(var_dic_list())"
    },
    "r": {
     "delete_cmd_postfix": ") ",
     "delete_cmd_prefix": "rm(",
     "library": "var_list.r",
     "varRefreshCmd": "cat(var_dic_list()) "
    }
   },
   "types_to_exclude": [
    "module",
    "function",
    "builtin_function_or_method",
    "instance",
    "_Feature"
   ],
   "window_display": false
  }
 },
 "nbformat": 4,
 "nbformat_minor": 4
}
